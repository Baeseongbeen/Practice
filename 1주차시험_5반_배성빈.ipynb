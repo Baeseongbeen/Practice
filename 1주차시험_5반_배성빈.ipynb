solve. exfile

## 강사님 풀이

class Rectangle:
    def __init__(self, width, height):
        self.width = width
        self.height = height
    def area(self):
        return self.width * self.height ## self 꼭 들어가야함
    def perimeter(self):
        return (self.width + self.height) * 2

rec = Rectangle(2,3)
print(rec.area()) ##함수이기 떄문에 () 꼭 붙여야 함)